{
 "cells": [
  {
   "cell_type": "markdown",
   "metadata": {},
   "source": [
    "**A Hands on NLP project - Data Cleaning to Model Explainability**"
   ]
  },
  {
   "cell_type": "markdown",
   "metadata": {},
   "source": [
    "By the end of this notebook you will learn:\n",
    "\n",
    "- How to deal with text data and clean it. Note that, cleaning process for text data may vary from case to case given the kind of text dataset you have to deal with.\n",
    "\n",
    "- How to represent text using TF-IDF. You will learn more about TF-IDF in the relevant section of this notebook.\n",
    "\n",
    "- How to train on the text-data sets and compare different Machine Learning models.\n",
    "\n",
    "- How to interpret the predictions of Machine Learning model.\n",
    "\n",
    "\n",
    "We will not focus just on pressing 'run' button and train the model but also go beyond to understand ***why(s)*** behind it."
   ]
  },
  {
   "cell_type": "markdown",
   "metadata": {},
   "source": [
    "**Installing relevant libraries**\n",
    "\n",
    "Note that if you are running it in VS code then you will have to install 'ipykernel' if its not installed\n",
    "\n",
    "Paste the following command in vs code terminal:\n",
    "\n",
    "pip install ipykernel"
   ]
  },
  {
   "cell_type": "code",
   "execution_count": 1,
   "metadata": {},
   "outputs": [
    {
     "name": "stdout",
     "output_type": "stream",
     "text": [
      "Requirement already satisfied: pandas in ./.ai_movie/lib/python3.13/site-packages (2.3.3)\n",
      "Requirement already satisfied: numpy>=1.26.0 in ./.ai_movie/lib/python3.13/site-packages (from pandas) (2.3.3)\n",
      "Requirement already satisfied: python-dateutil>=2.8.2 in ./.ai_movie/lib/python3.13/site-packages (from pandas) (2.9.0.post0)\n",
      "Requirement already satisfied: pytz>=2020.1 in ./.ai_movie/lib/python3.13/site-packages (from pandas) (2025.2)\n",
      "Requirement already satisfied: tzdata>=2022.7 in ./.ai_movie/lib/python3.13/site-packages (from pandas) (2025.2)\n",
      "Requirement already satisfied: six>=1.5 in ./.ai_movie/lib/python3.13/site-packages (from python-dateutil>=2.8.2->pandas) (1.17.0)\n",
      "\n",
      "\u001b[1m[\u001b[0m\u001b[34;49mnotice\u001b[0m\u001b[1;39;49m]\u001b[0m\u001b[39;49m A new release of pip is available: \u001b[0m\u001b[31;49m25.1.1\u001b[0m\u001b[39;49m -> \u001b[0m\u001b[32;49m25.2\u001b[0m\n",
      "\u001b[1m[\u001b[0m\u001b[34;49mnotice\u001b[0m\u001b[1;39;49m]\u001b[0m\u001b[39;49m To update, run: \u001b[0m\u001b[32;49mpip install --upgrade pip\u001b[0m\n",
      "Requirement already satisfied: numpy in ./.ai_movie/lib/python3.13/site-packages (2.3.3)\n",
      "\n",
      "\u001b[1m[\u001b[0m\u001b[34;49mnotice\u001b[0m\u001b[1;39;49m]\u001b[0m\u001b[39;49m A new release of pip is available: \u001b[0m\u001b[31;49m25.1.1\u001b[0m\u001b[39;49m -> \u001b[0m\u001b[32;49m25.2\u001b[0m\n",
      "\u001b[1m[\u001b[0m\u001b[34;49mnotice\u001b[0m\u001b[1;39;49m]\u001b[0m\u001b[39;49m To update, run: \u001b[0m\u001b[32;49mpip install --upgrade pip\u001b[0m\n",
      "Requirement already satisfied: matplotlib in ./.ai_movie/lib/python3.13/site-packages (3.10.7)\n",
      "Requirement already satisfied: contourpy>=1.0.1 in ./.ai_movie/lib/python3.13/site-packages (from matplotlib) (1.3.3)\n",
      "Requirement already satisfied: cycler>=0.10 in ./.ai_movie/lib/python3.13/site-packages (from matplotlib) (0.12.1)\n",
      "Requirement already satisfied: fonttools>=4.22.0 in ./.ai_movie/lib/python3.13/site-packages (from matplotlib) (4.60.1)\n",
      "Requirement already satisfied: kiwisolver>=1.3.1 in ./.ai_movie/lib/python3.13/site-packages (from matplotlib) (1.4.9)\n",
      "Requirement already satisfied: numpy>=1.23 in ./.ai_movie/lib/python3.13/site-packages (from matplotlib) (2.3.3)\n",
      "Requirement already satisfied: packaging>=20.0 in ./.ai_movie/lib/python3.13/site-packages (from matplotlib) (25.0)\n",
      "Requirement already satisfied: pillow>=8 in ./.ai_movie/lib/python3.13/site-packages (from matplotlib) (11.3.0)\n",
      "Requirement already satisfied: pyparsing>=3 in ./.ai_movie/lib/python3.13/site-packages (from matplotlib) (3.2.5)\n",
      "Requirement already satisfied: python-dateutil>=2.7 in ./.ai_movie/lib/python3.13/site-packages (from matplotlib) (2.9.0.post0)\n",
      "Requirement already satisfied: six>=1.5 in ./.ai_movie/lib/python3.13/site-packages (from python-dateutil>=2.7->matplotlib) (1.17.0)\n",
      "\n",
      "\u001b[1m[\u001b[0m\u001b[34;49mnotice\u001b[0m\u001b[1;39;49m]\u001b[0m\u001b[39;49m A new release of pip is available: \u001b[0m\u001b[31;49m25.1.1\u001b[0m\u001b[39;49m -> \u001b[0m\u001b[32;49m25.2\u001b[0m\n",
      "\u001b[1m[\u001b[0m\u001b[34;49mnotice\u001b[0m\u001b[1;39;49m]\u001b[0m\u001b[39;49m To update, run: \u001b[0m\u001b[32;49mpip install --upgrade pip\u001b[0m\n",
      "Requirement already satisfied: scikit-learn in ./.ai_movie/lib/python3.13/site-packages (1.7.2)\n",
      "Requirement already satisfied: numpy>=1.22.0 in ./.ai_movie/lib/python3.13/site-packages (from scikit-learn) (2.3.3)\n",
      "Requirement already satisfied: scipy>=1.8.0 in ./.ai_movie/lib/python3.13/site-packages (from scikit-learn) (1.16.2)\n",
      "Requirement already satisfied: joblib>=1.2.0 in ./.ai_movie/lib/python3.13/site-packages (from scikit-learn) (1.5.2)\n",
      "Requirement already satisfied: threadpoolctl>=3.1.0 in ./.ai_movie/lib/python3.13/site-packages (from scikit-learn) (3.6.0)\n",
      "\n",
      "\u001b[1m[\u001b[0m\u001b[34;49mnotice\u001b[0m\u001b[1;39;49m]\u001b[0m\u001b[39;49m A new release of pip is available: \u001b[0m\u001b[31;49m25.1.1\u001b[0m\u001b[39;49m -> \u001b[0m\u001b[32;49m25.2\u001b[0m\n",
      "\u001b[1m[\u001b[0m\u001b[34;49mnotice\u001b[0m\u001b[1;39;49m]\u001b[0m\u001b[39;49m To update, run: \u001b[0m\u001b[32;49mpip install --upgrade pip\u001b[0m\n",
      "Requirement already satisfied: seaborn in ./.ai_movie/lib/python3.13/site-packages (0.13.2)\n",
      "Requirement already satisfied: numpy!=1.24.0,>=1.20 in ./.ai_movie/lib/python3.13/site-packages (from seaborn) (2.3.3)\n",
      "Requirement already satisfied: pandas>=1.2 in ./.ai_movie/lib/python3.13/site-packages (from seaborn) (2.3.3)\n",
      "Requirement already satisfied: matplotlib!=3.6.1,>=3.4 in ./.ai_movie/lib/python3.13/site-packages (from seaborn) (3.10.7)\n",
      "Requirement already satisfied: contourpy>=1.0.1 in ./.ai_movie/lib/python3.13/site-packages (from matplotlib!=3.6.1,>=3.4->seaborn) (1.3.3)\n",
      "Requirement already satisfied: cycler>=0.10 in ./.ai_movie/lib/python3.13/site-packages (from matplotlib!=3.6.1,>=3.4->seaborn) (0.12.1)\n",
      "Requirement already satisfied: fonttools>=4.22.0 in ./.ai_movie/lib/python3.13/site-packages (from matplotlib!=3.6.1,>=3.4->seaborn) (4.60.1)\n",
      "Requirement already satisfied: kiwisolver>=1.3.1 in ./.ai_movie/lib/python3.13/site-packages (from matplotlib!=3.6.1,>=3.4->seaborn) (1.4.9)\n",
      "Requirement already satisfied: packaging>=20.0 in ./.ai_movie/lib/python3.13/site-packages (from matplotlib!=3.6.1,>=3.4->seaborn) (25.0)\n",
      "Requirement already satisfied: pillow>=8 in ./.ai_movie/lib/python3.13/site-packages (from matplotlib!=3.6.1,>=3.4->seaborn) (11.3.0)\n",
      "Requirement already satisfied: pyparsing>=3 in ./.ai_movie/lib/python3.13/site-packages (from matplotlib!=3.6.1,>=3.4->seaborn) (3.2.5)\n",
      "Requirement already satisfied: python-dateutil>=2.7 in ./.ai_movie/lib/python3.13/site-packages (from matplotlib!=3.6.1,>=3.4->seaborn) (2.9.0.post0)\n",
      "Requirement already satisfied: pytz>=2020.1 in ./.ai_movie/lib/python3.13/site-packages (from pandas>=1.2->seaborn) (2025.2)\n",
      "Requirement already satisfied: tzdata>=2022.7 in ./.ai_movie/lib/python3.13/site-packages (from pandas>=1.2->seaborn) (2025.2)\n",
      "Requirement already satisfied: six>=1.5 in ./.ai_movie/lib/python3.13/site-packages (from python-dateutil>=2.7->matplotlib!=3.6.1,>=3.4->seaborn) (1.17.0)\n",
      "\n",
      "\u001b[1m[\u001b[0m\u001b[34;49mnotice\u001b[0m\u001b[1;39;49m]\u001b[0m\u001b[39;49m A new release of pip is available: \u001b[0m\u001b[31;49m25.1.1\u001b[0m\u001b[39;49m -> \u001b[0m\u001b[32;49m25.2\u001b[0m\n",
      "\u001b[1m[\u001b[0m\u001b[34;49mnotice\u001b[0m\u001b[1;39;49m]\u001b[0m\u001b[39;49m To update, run: \u001b[0m\u001b[32;49mpip install --upgrade pip\u001b[0m\n",
      "Requirement already satisfied: nltk in ./.ai_movie/lib/python3.13/site-packages (3.9.2)\n",
      "Requirement already satisfied: click in ./.ai_movie/lib/python3.13/site-packages (from nltk) (8.3.0)\n",
      "Requirement already satisfied: joblib in ./.ai_movie/lib/python3.13/site-packages (from nltk) (1.5.2)\n",
      "Requirement already satisfied: regex>=2021.8.3 in ./.ai_movie/lib/python3.13/site-packages (from nltk) (2025.9.18)\n",
      "Requirement already satisfied: tqdm in ./.ai_movie/lib/python3.13/site-packages (from nltk) (4.67.1)\n",
      "\n",
      "\u001b[1m[\u001b[0m\u001b[34;49mnotice\u001b[0m\u001b[1;39;49m]\u001b[0m\u001b[39;49m A new release of pip is available: \u001b[0m\u001b[31;49m25.1.1\u001b[0m\u001b[39;49m -> \u001b[0m\u001b[32;49m25.2\u001b[0m\n",
      "\u001b[1m[\u001b[0m\u001b[34;49mnotice\u001b[0m\u001b[1;39;49m]\u001b[0m\u001b[39;49m To update, run: \u001b[0m\u001b[32;49mpip install --upgrade pip\u001b[0m\n",
      "Requirement already satisfied: kagglehub in ./.ai_movie/lib/python3.13/site-packages (0.3.13)\n",
      "Requirement already satisfied: packaging in ./.ai_movie/lib/python3.13/site-packages (from kagglehub) (25.0)\n",
      "Requirement already satisfied: pyyaml in ./.ai_movie/lib/python3.13/site-packages (from kagglehub) (6.0.3)\n",
      "Requirement already satisfied: requests in ./.ai_movie/lib/python3.13/site-packages (from kagglehub) (2.32.5)\n",
      "Requirement already satisfied: tqdm in ./.ai_movie/lib/python3.13/site-packages (from kagglehub) (4.67.1)\n",
      "Requirement already satisfied: charset_normalizer<4,>=2 in ./.ai_movie/lib/python3.13/site-packages (from requests->kagglehub) (3.4.4)\n",
      "Requirement already satisfied: idna<4,>=2.5 in ./.ai_movie/lib/python3.13/site-packages (from requests->kagglehub) (3.11)\n",
      "Requirement already satisfied: urllib3<3,>=1.21.1 in ./.ai_movie/lib/python3.13/site-packages (from requests->kagglehub) (2.5.0)\n",
      "Requirement already satisfied: certifi>=2017.4.17 in ./.ai_movie/lib/python3.13/site-packages (from requests->kagglehub) (2025.10.5)\n",
      "\n",
      "\u001b[1m[\u001b[0m\u001b[34;49mnotice\u001b[0m\u001b[1;39;49m]\u001b[0m\u001b[39;49m A new release of pip is available: \u001b[0m\u001b[31;49m25.1.1\u001b[0m\u001b[39;49m -> \u001b[0m\u001b[32;49m25.2\u001b[0m\n",
      "\u001b[1m[\u001b[0m\u001b[34;49mnotice\u001b[0m\u001b[1;39;49m]\u001b[0m\u001b[39;49m To update, run: \u001b[0m\u001b[32;49mpip install --upgrade pip\u001b[0m\n"
     ]
    }
   ],
   "source": [
    "try:\n",
    "    !pip install pandas\n",
    "    !pip install numpy\n",
    "    !pip install matplotlib\n",
    "    !pip install scikit-learn\n",
    "    !pip install seaborn\n",
    "    !pip install nltk\n",
    "    !pip install kagglehub\n",
    "\n",
    "except Exception as error:\n",
    "\n",
    "    print(f\"Error: {error}\")"
   ]
  },
  {
   "cell_type": "markdown",
   "metadata": {},
   "source": []
  },
  {
   "cell_type": "markdown",
   "metadata": {},
   "source": [
    "***Import relevant libraries***"
   ]
  },
  {
   "cell_type": "code",
   "execution_count": 2,
   "metadata": {},
   "outputs": [
    {
     "name": "stderr",
     "output_type": "stream",
     "text": [
      "/Users/amitkumar/Documents/Github_Projects/Movie-Review-Sentiment/AI-Powered-Movie-Review-Sentiment-Classifier-from-EDA-to-Deployment/.ai_movie/lib/python3.13/site-packages/tqdm/auto.py:21: TqdmWarning: IProgress not found. Please update jupyter and ipywidgets. See https://ipywidgets.readthedocs.io/en/stable/user_install.html\n",
      "  from .autonotebook import tqdm as notebook_tqdm\n",
      "[nltk_data] Downloading package stopwords to\n",
      "[nltk_data]     /Users/amitkumar/nltk_data...\n",
      "[nltk_data]   Package stopwords is already up-to-date!\n"
     ]
    }
   ],
   "source": [
    "import pandas as pd\n",
    "import numpy as np\n",
    "import matplotlib.pyplot as plt\n",
    "import seaborn as sns\n",
    "import kagglehub\n",
    "import os\n",
    "import re\n",
    "import shutil\n",
    "\n",
    "\n",
    "from sklearn.model_selection import train_test_split\n",
    "from sklearn.feature_extraction.text import TfidfVectorizer\n",
    "from sklearn.linear_model import LogisticRegression\n",
    "from sklearn.naive_bayes import MultinomialNB\n",
    "from sklearn.metrics import accuracy_score, confusion_matrix, classification_report\n",
    "\n",
    "\n",
    "# nltk is used to get the stopwords of multiple languages (including English). This will be used to clean the textual data.\n",
    "import nltk\n",
    "nltk.download('stopwords')\n",
    "from nltk.corpus import stopwords\n"
   ]
  },
  {
   "cell_type": "markdown",
   "metadata": {},
   "source": [
    "**Importing Dataset**\n",
    "\n",
    "There are 2 ways you can get the IMDb dataset:\n",
    "\n",
    "1. Go to https://www.kaggle.com/datasets/lakshmi25npathi/imdb-dataset-of-50k-movie-reviews, and on the top-right of the web-page you will find a download as zip option. After downloading the data, make a directory named 'imdb_dataset' and paste the .csv file in the directory.\n",
    "\n",
    "2. The other way is to utilise ***kagglehub*** library and execute the script in the below cell to download the dataset in current folder\n"
   ]
  },
  {
   "cell_type": "code",
   "execution_count": 3,
   "metadata": {},
   "outputs": [
    {
     "data": {
      "text/plain": [
       "'\\npath = kagglehub.dataset_download(\"lakshmi25npathi/imdb-dataset-of-50k-movie-reviews\")\\n\\nprint(\"Path to dataset files:\", path)\\n\\nCreate a directory named \"imdb_dataset\" in current directory. It will act as destination directory to copy the downloaded\\ndataset.\\n\\ndata_path = os.path.join(os.getcwd(), \"imdb_dataset\")\\n\\n# Move the downloaded dataset to current directory\\nshutil.move(path, data_path)\\n\\nprint(\"The dataset folder is moved to imdb_dataset directory successfully\")\\n\\n\\n'"
      ]
     },
     "execution_count": 3,
     "metadata": {},
     "output_type": "execute_result"
    }
   ],
   "source": [
    "\n",
    "# Download latest dataset version. This script helps in downloading it directly from kagglehub on your local machine only.\n",
    "# It does not help on Google Colab.\n",
    "\"\"\"\n",
    "path = kagglehub.dataset_download(\"lakshmi25npathi/imdb-dataset-of-50k-movie-reviews\")\n",
    "\n",
    "print(\"Path to dataset files:\", path)\n",
    "\n",
    "Create a directory named \"imdb_dataset\" in current directory. It will act as destination directory to copy the downloaded\n",
    "dataset.\n",
    "\n",
    "data_path = os.path.join(os.getcwd(), \"imdb_dataset\")\n",
    "\n",
    "# Move the downloaded dataset to current directory\n",
    "shutil.move(path, data_path)\n",
    "\n",
    "print(\"The dataset folder is moved to imdb_dataset directory successfully\")\n",
    "\n",
    "\n",
    "\"\"\""
   ]
  },
  {
   "cell_type": "markdown",
   "metadata": {},
   "source": [
    "**Importing the Dataset**\n",
    "\n",
    "We will import the data set in pandas dataframe with the help of pandas library. And do some exploration to understand the data in detail. As of now, the dataset is present in imdb_dataset directory."
   ]
  },
  {
   "cell_type": "code",
   "execution_count": 20,
   "metadata": {},
   "outputs": [
    {
     "name": "stdout",
     "output_type": "stream",
     "text": [
      "Cloning into 'AI-Powered-Movie-Review-Sentiment-Classifier-from-EDA-to-Deployment'...\n",
      "remote: Enumerating objects: 31, done.\u001b[K\n",
      "remote: Counting objects: 100% (31/31), done.\u001b[K\n",
      "remote: Compressing objects: 100% (25/25), done.\u001b[K\n",
      "remote: Total 31 (delta 6), reused 26 (delta 4), pack-reused 0 (from 0)\u001b[K\n",
      "Receiving objects: 100% (31/31), 25.46 MiB | 7.64 MiB/s, done.\n",
      "Resolving deltas: 100% (6/6), done.\n",
      "/Users/amitkumar/Documents/Github_Projects/Movie-Review-Sentiment/AI-Powered-Movie-Review-Sentiment-Classifier-from-EDA-to-Deployment/AI-Powered-Movie-Review-Sentiment-Classifier-from-EDA-to-Deployment\n",
      "README.md             ai_movie_review.ipynb \u001b[34mimdb_dataset\u001b[m\u001b[m\n"
     ]
    }
   ],
   "source": [
    "!git clone https://github.com/AmitKumarKGP/AI-Powered-Movie-Review-Sentiment-Classifier-from-EDA-to-Deployment.git\n",
    "%cd AI-Powered-Movie-Review-Sentiment-Classifier-from-EDA-to-Deployment\n",
    "!ls"
   ]
  },
  {
   "cell_type": "code",
   "execution_count": 4,
   "metadata": {},
   "outputs": [
    {
     "data": {
      "text/html": [
       "<div>\n",
       "<style scoped>\n",
       "    .dataframe tbody tr th:only-of-type {\n",
       "        vertical-align: middle;\n",
       "    }\n",
       "\n",
       "    .dataframe tbody tr th {\n",
       "        vertical-align: top;\n",
       "    }\n",
       "\n",
       "    .dataframe thead th {\n",
       "        text-align: right;\n",
       "    }\n",
       "</style>\n",
       "<table border=\"1\" class=\"dataframe\">\n",
       "  <thead>\n",
       "    <tr style=\"text-align: right;\">\n",
       "      <th></th>\n",
       "      <th>review</th>\n",
       "      <th>sentiment</th>\n",
       "    </tr>\n",
       "  </thead>\n",
       "  <tbody>\n",
       "    <tr>\n",
       "      <th>0</th>\n",
       "      <td>One of the other reviewers has mentioned that ...</td>\n",
       "      <td>positive</td>\n",
       "    </tr>\n",
       "    <tr>\n",
       "      <th>1</th>\n",
       "      <td>A wonderful little production. &lt;br /&gt;&lt;br /&gt;The...</td>\n",
       "      <td>positive</td>\n",
       "    </tr>\n",
       "    <tr>\n",
       "      <th>2</th>\n",
       "      <td>I thought this was a wonderful way to spend ti...</td>\n",
       "      <td>positive</td>\n",
       "    </tr>\n",
       "    <tr>\n",
       "      <th>3</th>\n",
       "      <td>Basically there's a family where a little boy ...</td>\n",
       "      <td>negative</td>\n",
       "    </tr>\n",
       "    <tr>\n",
       "      <th>4</th>\n",
       "      <td>Petter Mattei's \"Love in the Time of Money\" is...</td>\n",
       "      <td>positive</td>\n",
       "    </tr>\n",
       "  </tbody>\n",
       "</table>\n",
       "</div>"
      ],
      "text/plain": [
       "                                              review sentiment\n",
       "0  One of the other reviewers has mentioned that ...  positive\n",
       "1  A wonderful little production. <br /><br />The...  positive\n",
       "2  I thought this was a wonderful way to spend ti...  positive\n",
       "3  Basically there's a family where a little boy ...  negative\n",
       "4  Petter Mattei's \"Love in the Time of Money\" is...  positive"
      ]
     },
     "execution_count": 4,
     "metadata": {},
     "output_type": "execute_result"
    }
   ],
   "source": [
    "# Read the dataset using pandas and store as dataframe\n",
    "\n",
    "df = pd.read_csv(\"imdb_dataset/IMDB Dataset.csv\")\n",
    "\n",
    "# print the top 5 rows of the dataframe\n",
    "\n",
    "df.head()\n"
   ]
  },
  {
   "cell_type": "markdown",
   "metadata": {},
   "source": [
    "The printed 5 rows show 3 columns:\n",
    "1. Index starting from 0\n",
    "2. Review column having public reviews: This will act as input to the ML model\n",
    "3. Sentiment column to understand if the review was positive or negative: This will be output variable to be predicted by ML model"
   ]
  },
  {
   "cell_type": "markdown",
   "metadata": {},
   "source": [
    "Visualisation to understand the distribution of positive and negative sentiments."
   ]
  },
  {
   "cell_type": "code",
   "execution_count": 5,
   "metadata": {},
   "outputs": [
    {
     "data": {
      "image/png": "[encoded data removed]",
      "text/plain": [
       "<Figure size 640x480 with 1 Axes>"
      ]
     },
     "metadata": {},
     "output_type": "display_data"
    }
   ],
   "source": [
    "df['sentiment'].value_counts().plot(kind = 'bar', color = ['green', 'red'])\n",
    "plt.title(\"Distribution of Sentiment\")\n",
    "plt.show()"
   ]
  },
  {
   "cell_type": "markdown",
   "metadata": {},
   "source": [
    "In the above plot, we can visualy or qualitatively see that positive and negative sentiment reviews are more or less equal. However,let's dig deeper to calculate exact percentage of positive and negative review distribution. It might not be that beneficial in this case as there is little to no difference between  them but for datasets where there is noticeable difference - its always a good idea to know how skewed our dataset is."
   ]
  },
  {
   "cell_type": "code",
   "execution_count": 6,
   "metadata": {},
   "outputs": [
    {
     "name": "stderr",
     "output_type": "stream",
     "text": [
      "/var/folders/7v/4q618mqj6fv3qg6g31ht7ddm0000gn/T/ipykernel_76694/1398813322.py:13: FutureWarning: Series.__getitem__ treating keys as positions is deprecated. In a future version, integer keys will always be treated as labels (consistent with DataFrame behavior). To access a value by position, use `ser.iloc[pos]`\n",
      "  percent = sentiment_percent[i]\n"
     ]
    },
    {
     "data": {
      "image/png": "[encoded data removed]",
      "text/plain": [
       "<Figure size 640x480 with 1 Axes>"
      ]
     },
     "metadata": {},
     "output_type": "display_data"
    },
    {
     "name": "stdout",
     "output_type": "stream",
     "text": [
      "Sentiment Percentage Distribution:\n",
      "sentiment\n",
      "positive    50.0\n",
      "negative    50.0\n",
      "Name: proportion, dtype: float64\n"
     ]
    }
   ],
   "source": [
    "# Get counts and percentages\n",
    "sentiment_counts = df['sentiment'].value_counts()\n",
    "sentiment_percent = df['sentiment'].value_counts(normalize=True) * 100\n",
    "\n",
    "# Plot bar chart\n",
    "sentiment_counts.plot(kind='bar', color=['green', 'red'])\n",
    "plt.title(\"Sentiment Distribution\")\n",
    "plt.xlabel(\"Sentiment\")\n",
    "plt.ylabel(\"Count\")\n",
    "\n",
    "# Annotate percentages on bars\n",
    "for i, count in enumerate(sentiment_counts):\n",
    "    percent = sentiment_percent[i]\n",
    "    plt.text(i, count + 500, f'{percent:.2f}%', ha='center', fontsize=10)\n",
    "\n",
    "plt.show()\n",
    "\n",
    "# Print summary\n",
    "print(\"Sentiment Percentage Distribution:\")\n",
    "print(sentiment_percent.round(2))\n"
   ]
  },
  {
   "cell_type": "markdown",
   "metadata": {},
   "source": [
    "In the above plot and sentiment_percent dataframe we can confirm quantitatively that we have equal number of positive and negative sentiment dataset."
   ]
  },
  {
   "cell_type": "markdown",
   "metadata": {},
   "source": [
    "**Cleaning and Processing Text**\n",
    "\n",
    "Once we have understood the dataset, its characteristics, spread, etc then we jump onto cleaning and pre-processing it. Pre-processing the dataset will make it compatible with the model, and ensure standardization among different variants of input text.\n",
    "\n",
    "***clean_text*** function is defined through which the reviews column of the dataframe will pass and get processed."
   ]
  },
  {
   "cell_type": "code",
   "execution_count": 7,
   "metadata": {},
   "outputs": [],
   "source": [
    "stop_words = stopwords.words(\"english\")     # Import the stop words from english\n",
    "\n",
    "def clean_text(text: str) -> str:\n",
    "\n",
    "    text = re.sub(\"<.*?>\",\"\", text)         # This will remove any html formatting from the text.\n",
    "    text = re.sub(\"[^a-zA-Z]\",\" \", text)    # This will remove any non-alphabetical characters.\n",
    "    text = text.lower()                     # Convert all letters to lower-case alphabets\n",
    "\n",
    "    text = \" \".join([word for word in text.split() if word not in stop_words]) \n",
    "    \n",
    "    # It creates a list of words from the sentence which are not an english stop words. Later, joins the words with spaces\n",
    "    # between them to create a clean string.\n",
    "\n",
    "    return text\n",
    "\n",
    "\n",
    "df[\"clean_reviews\"] = df['review'].apply(clean_text)"
   ]
  },
  {
   "cell_type": "code",
   "execution_count": 8,
   "metadata": {},
   "outputs": [
    {
     "data": {
      "text/html": [
       "<div>\n",
       "<style scoped>\n",
       "    .dataframe tbody tr th:only-of-type {\n",
       "        vertical-align: middle;\n",
       "    }\n",
       "\n",
       "    .dataframe tbody tr th {\n",
       "        vertical-align: top;\n",
       "    }\n",
       "\n",
       "    .dataframe thead th {\n",
       "        text-align: right;\n",
       "    }\n",
       "</style>\n",
       "<table border=\"1\" class=\"dataframe\">\n",
       "  <thead>\n",
       "    <tr style=\"text-align: right;\">\n",
       "      <th></th>\n",
       "      <th>review</th>\n",
       "      <th>sentiment</th>\n",
       "      <th>clean_reviews</th>\n",
       "    </tr>\n",
       "  </thead>\n",
       "  <tbody>\n",
       "    <tr>\n",
       "      <th>0</th>\n",
       "      <td>One of the other reviewers has mentioned that ...</td>\n",
       "      <td>positive</td>\n",
       "      <td>one reviewers mentioned watching oz episode ho...</td>\n",
       "    </tr>\n",
       "    <tr>\n",
       "      <th>1</th>\n",
       "      <td>A wonderful little production. &lt;br /&gt;&lt;br /&gt;The...</td>\n",
       "      <td>positive</td>\n",
       "      <td>wonderful little production filming technique ...</td>\n",
       "    </tr>\n",
       "    <tr>\n",
       "      <th>2</th>\n",
       "      <td>I thought this was a wonderful way to spend ti...</td>\n",
       "      <td>positive</td>\n",
       "      <td>thought wonderful way spend time hot summer we...</td>\n",
       "    </tr>\n",
       "    <tr>\n",
       "      <th>3</th>\n",
       "      <td>Basically there's a family where a little boy ...</td>\n",
       "      <td>negative</td>\n",
       "      <td>basically family little boy jake thinks zombie...</td>\n",
       "    </tr>\n",
       "    <tr>\n",
       "      <th>4</th>\n",
       "      <td>Petter Mattei's \"Love in the Time of Money\" is...</td>\n",
       "      <td>positive</td>\n",
       "      <td>petter mattei love time money visually stunnin...</td>\n",
       "    </tr>\n",
       "  </tbody>\n",
       "</table>\n",
       "</div>"
      ],
      "text/plain": [
       "                                              review sentiment  \\\n",
       "0  One of the other reviewers has mentioned that ...  positive   \n",
       "1  A wonderful little production. <br /><br />The...  positive   \n",
       "2  I thought this was a wonderful way to spend ti...  positive   \n",
       "3  Basically there's a family where a little boy ...  negative   \n",
       "4  Petter Mattei's \"Love in the Time of Money\" is...  positive   \n",
       "\n",
       "                                       clean_reviews  \n",
       "0  one reviewers mentioned watching oz episode ho...  \n",
       "1  wonderful little production filming technique ...  \n",
       "2  thought wonderful way spend time hot summer we...  \n",
       "3  basically family little boy jake thinks zombie...  \n",
       "4  petter mattei love time money visually stunnin...  "
      ]
     },
     "execution_count": 8,
     "metadata": {},
     "output_type": "execute_result"
    }
   ],
   "source": [
    "#check the first 5 rows of df dataframe\n",
    "\n",
    "df.head()"
   ]
  },
  {
   "cell_type": "markdown",
   "metadata": {},
   "source": [
    "**Splitting the data for training ML model**"
   ]
  },
  {
   "cell_type": "code",
   "execution_count": 9,
   "metadata": {},
   "outputs": [
    {
     "name": "stdout",
     "output_type": "stream",
     "text": [
      "Shape of X_train: (40000,)\n",
      "Shape of X_test: (10000,)\n",
      "Shape of y_train: (40000,)\n",
      "Shape of y_test: (10000,)\n"
     ]
    }
   ],
   "source": [
    "X_train, X_test, y_train, y_test = train_test_split(\n",
    "    df['clean_reviews'], df['sentiment'], # clean reviews act as input (x) and sentiment as output (y)\n",
    "    test_size = 0.2,                      # 20% of the data will be used to test and 80% to train the model\n",
    "    random_state = 30                     # This shuffles the rows for X and y\n",
    ")\n",
    "\n",
    "\n",
    "\n",
    "print(f\"Shape of X_train: {X_train.shape}\")\n",
    "print(f\"Shape of X_test: {X_test.shape}\")\n",
    "\n",
    "print(f\"Shape of y_train: {y_train.shape}\")\n",
    "print(f\"Shape of y_test: {y_test.shape}\")\n",
    "\n"
   ]
  },
  {
   "cell_type": "markdown",
   "metadata": {},
   "source": [
    "**Vectorisation of Textual Data**\n",
    "\n",
    "Read more about TfidVectorizer from the documentation:\n",
    "https://scikit-learn.org/stable/modules/generated/sklearn.feature_extraction.text.TfidfVectorizer.html"
   ]
  },
  {
   "cell_type": "code",
   "execution_count": 10,
   "metadata": {},
   "outputs": [],
   "source": [
    "# Initialise the vectoriser\n",
    "\n",
    "\"\"\" max_features is used to consider the top-k vocabulary from the document corpus. Here max_feature = 5000 is chosen to consider\n",
    "top 5000 most frequently occuring vocabulary in the document.\n",
    "\"\"\"\n",
    "vectoriser = TfidfVectorizer(max_features=5000)\n",
    "\n",
    "X_train_vec = vectoriser.fit_transform(X_train)\n",
    "X_test_vec = vectoriser.fit_transform(X_test)"
   ]
  },
  {
   "cell_type": "markdown",
   "metadata": {},
   "source": [
    "**Defining ML Models**\n",
    "\n",
    "A dictionary is defined with keys as model name and value as model initialiser"
   ]
  },
  {
   "cell_type": "code",
   "execution_count": 11,
   "metadata": {},
   "outputs": [],
   "source": [
    "# Dictionary with different ML models\n",
    "models = {\n",
    "    'Logistic Regression': LogisticRegression(max_iter = 300),\n",
    "    'Naive Bayes': MultinomialNB()\n",
    "}\n"
   ]
  },
  {
   "cell_type": "markdown",
   "metadata": {},
   "source": [
    "Training on the models and checking the performance of model"
   ]
  },
  {
   "cell_type": "code",
   "execution_count": 12,
   "metadata": {},
   "outputs": [
    {
     "name": "stdout",
     "output_type": "stream",
     "text": [
      "The accuracy score of Logistic Regression: 0.5592\n",
      "The accuracy score of Naive Bayes: 0.5599\n"
     ]
    }
   ],
   "source": [
    "for name, model in models.items():\n",
    "    model.fit(X_train_vec, y_train)\n",
    "    prediction = model.predict(X_test_vec)\n",
    "\n",
    "    print(f\"The accuracy score of {name}: {accuracy_score(y_test, prediction):.4f}\")"
   ]
  },
  {
   "cell_type": "markdown",
   "metadata": {},
   "source": [
    "Here you will see the accuracy of both the models are not that great ~0.55 to 0.65. What could have been the reasons? How can you improve it?\n",
    "\n",
    "Questions to ponder on and read:\n",
    "\n",
    "1. Can we improve the cleaning_text function - shall we remove the spaces too?\n",
    "2. Max_features of vectorizer: can it be increased to provide more context/vocabulary to the input dataset?\n",
    "3. Increasing the iterations of Logistic Regression: Will it help?\n",
    "4. Can we try more powerful ML models? Linear SVM, Ensemble ML models like RandomForest, XGBoost\n",
    "5. Go Deep-Learning? We will cover it in upcoming notebooks"
   ]
  },
  {
   "cell_type": "markdown",
   "metadata": {},
   "source": [
    "**MODEL EVALUATION**\n",
    "\n",
    "In this section, we will evaluate Logistic Regression's prediction. And you can give it a go with Naive Bayes ML model.\n",
    "\n",
    "Read more abut confusion matrix used in next section:\n",
    "https://www.geeksforgeeks.org/machine-learning/confusion-matrix-machine-learning/"
   ]
  },
  {
   "cell_type": "code",
   "execution_count": 13,
   "metadata": {},
   "outputs": [
    {
     "name": "stdout",
     "output_type": "stream",
     "text": [
      "              precision    recall  f1-score   support\n",
      "\n",
      "    negative       0.57      0.46      0.51      4977\n",
      "    positive       0.55      0.66      0.60      5023\n",
      "\n",
      "    accuracy                           0.56     10000\n",
      "   macro avg       0.56      0.56      0.55     10000\n",
      "weighted avg       0.56      0.56      0.55     10000\n",
      "\n"
     ]
    },
    {
     "data": {
      "image/png": "[encoded data removed]",
      "text/plain": [
       "<Figure size 640x480 with 2 Axes>"
      ]
     },
     "metadata": {},
     "output_type": "display_data"
    }
   ],
   "source": [
    "model_LR = LogisticRegression(max_iter=300)\n",
    "model_LR.fit(X_train_vec, y_train)\n",
    "LR_predictions = model_LR.predict(X_test_vec)\n",
    "\n",
    "# It will print the classification report\n",
    "print(classification_report(y_test, LR_predictions))\n",
    "\n",
    "confusion_mat = confusion_matrix(y_test, LR_predictions, labels = ['positive', 'negative'])\n",
    "\n",
    "sns.heatmap(confusion_mat, annot = True, fmt = 'd', cmap = 'coolwarm')\n",
    "plt.xlabel('Predicted')\n",
    "plt.ylabel('True')\n",
    "plt.show()"
   ]
  },
  {
   "cell_type": "markdown",
   "metadata": {},
   "source": [
    "**Explainability**\n",
    "\n",
    "Let us dig deeper and see which words the model focused on when it came to identify/predict positive and negative sentiment"
   ]
  },
  {
   "cell_type": "code",
   "execution_count": 14,
   "metadata": {},
   "outputs": [
    {
     "name": "stdout",
     "output_type": "stream",
     "text": [
      "['abandoned' 'abc' 'abilities' ... 'zombie' 'zombies' 'zone']\n",
      "Total number of features: 5000\n"
     ]
    }
   ],
   "source": [
    "# Get the feature names out of vectoriser which was used to \n",
    "feature_name = np.array(vectoriser.get_feature_names_out())\n",
    "print(feature_name)\n",
    "print(f\"Total number of features: {len(feature_name)}\")"
   ]
  },
  {
   "cell_type": "code",
   "execution_count": 16,
   "metadata": {},
   "outputs": [
    {
     "data": {
      "image/png": "[encoded data removed]",
      "text/plain": [
       "<Figure size 640x480 with 1 Axes>"
      ]
     },
     "metadata": {},
     "output_type": "display_data"
    }
   ],
   "source": [
    "# Extract the coefficient\n",
    "\n",
    "# The below coefficients give weights associated with each of the 5000 features (words).\n",
    "coef = model_LR.coef_[0]\n",
    "plt.figure()\n",
    "plt.plot(coef)\n",
    "plt.xlabel('Index')\n",
    "plt.ylabel('Weights')\n",
    "plt.show()"
   ]
  },
  {
   "cell_type": "code",
   "execution_count": 17,
   "metadata": {},
   "outputs": [],
   "source": [
    "\"\"\"\n",
    "Sorting the coefficients in ascending order. The lowest coefficient will reflect the most negative word and the highest \n",
    "coefficent will reflect the most positive word.\n",
    "\"\"\"\n",
    "\n",
    "# Taking the last 20 indices from sorted array of coeff\n",
    "top_positive = feature_name[np.argsort(coef)[-20:]]\n",
    "\n",
    "\n",
    "# Taking the first 20 indices from sorted array of coeff\n",
    "top_negative = feature_name[np.argsort(coef)[:20]]\n",
    "\n",
    "# Note: np.sort(arr) will give the values in sorted order whereas np.argsort(arr) will give indices of sorted values"
   ]
  },
  {
   "cell_type": "markdown",
   "metadata": {},
   "source": [
    "**Plotting Positive and Negative Words**"
   ]
  },
  {
   "cell_type": "code",
   "execution_count": 18,
   "metadata": {},
   "outputs": [
    {
     "data": {
      "image/png": "[encoded data removed]",
      "text/plain": [
       "<Figure size 1000x400 with 1 Axes>"
      ]
     },
     "metadata": {},
     "output_type": "display_data"
    },
    {
     "data": {
      "image/png": "[encoded data removed]",
      "text/plain": [
       "<Figure size 1000x400 with 1 Axes>"
      ]
     },
     "metadata": {},
     "output_type": "display_data"
    }
   ],
   "source": [
    "plt.figure(figsize = (10,4))\n",
    "sns.barplot(x=coef[np.argsort(coef)[-20:]], y=top_positive, color='green')\n",
    "plt.title(\"Top Positive Words\")\n",
    "\n",
    "plt.figure(figsize=(10,4))\n",
    "sns.barplot(x=coef[np.argsort(coef)[:20]], y=top_negative, color='red')\n",
    "plt.title(\"Top Negative Words\")\n",
    "plt.show()"
   ]
  },
  {
   "cell_type": "markdown",
   "metadata": {},
   "source": [
    "You would notice that Logistic Regression has done 'okayish' in learning the positive and negative words from the corpus. But this can significantly be better with better ML models capable of learning textual data well."
   ]
  },
  {
   "cell_type": "markdown",
   "metadata": {},
   "source": [
    "**PREDICT CUSTOM INPUT**"
   ]
  },
  {
   "cell_type": "code",
   "execution_count": 19,
   "metadata": {},
   "outputs": [
    {
     "name": "stdout",
     "output_type": "stream",
     "text": [
      "Input text: The movie was really good \n",
      " Sentiment: positive\n"
     ]
    }
   ],
   "source": [
    "def predict_sentiment(text: str):\n",
    "\n",
    "    # Formatting/processing the input text using previously defined function 'clean_text'\n",
    "    processed_text = clean_text(text)\n",
    "\n",
    "    # Transforming the text to vectors using vectoriser. Note that same vectoriser must be utilised here which was used for\n",
    "    # training the ML model\n",
    "\n",
    "    input_vector = vectoriser.transform([processed_text])\n",
    "\n",
    "    # Predicting the sentiment\n",
    "    pred = model_LR.predict(input_vector)[0]\n",
    "\n",
    "    print(f\"Input text: {text} \\n Sentiment: {pred}\")\n",
    "\n",
    "\n",
    "# An example\n",
    "input_text = \"The movie was really good\"\n",
    "\n",
    "predict_sentiment(input_text)"
   ]
  },
  {
   "cell_type": "markdown",
   "metadata": {},
   "source": [
    "**Key Learnings**\n",
    "\n",
    "- Cleaned real-world text data using regex & stopwords\n",
    "- Built ML models using TF-IDF features\n",
    "- Compared Logistic Regression and Naive Bayes\n",
    "- Visualized and explained which words impact sentiment\n",
    "\n",
    "**Next Steps:**\n",
    "- Try Deep Learning (LSTM or BERT)\n",
    "- Deploy this model with Streamlit or Hugging Face"
   ]
  },
  {
   "cell_type": "code",
   "execution_count": null,
   "metadata": {},
   "outputs": [],
   "source": []
  }
 ],
 "metadata": {
  "kernelspec": {
   "display_name": ".ai_movie",
   "language": "python",
   "name": "python3"
  },
  "language_info": {
   "codemirror_mode": {
    "name": "ipython",
    "version": 3
   },
   "file_extension": ".py",
   "mimetype": "text/x-python",
   "name": "python",
   "nbconvert_exporter": "python",
   "pygments_lexer": "ipython3",
   "version": "3.13.4"
  }
 },
 "nbformat": 4,
 "nbformat_minor": 2
}
